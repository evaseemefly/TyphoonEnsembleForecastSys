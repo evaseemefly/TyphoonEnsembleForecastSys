{
 "metadata": {
  "language_info": {
   "codemirror_mode": {
    "name": "ipython",
    "version": 3
   },
   "file_extension": ".py",
   "mimetype": "text/x-python",
   "name": "python",
   "nbconvert_exporter": "python",
   "pygments_lexer": "ipython3",
   "version": "3.7.4-final"
  },
  "orig_nbformat": 2,
  "kernelspec": {
   "name": "python374jvsc74a57bd09855e607446d6f8d8d32c1b2c59596f2ae0851b17c8feda8ce0476f271252dcc",
   "display_name": "Python 3.7.4 64-bit ('new_oil_gdal': conda)"
  }
 },
 "nbformat": 4,
 "nbformat_minor": 2,
 "cells": [
  {
   "cell_type": "code",
   "execution_count": 23,
   "metadata": {},
   "outputs": [],
   "source": [
    "import os\n",
    "import pandas as pd\n",
    "import numpy as np\n",
    "import re\n",
    "from datetime import datetime\n",
    "import arrow"
   ]
  },
  {
   "cell_type": "code",
   "execution_count": 7,
   "metadata": {},
   "outputs": [],
   "source": [
    "full_path=r'E:\\02data\\03typhoon\\TY2022_2020042710\\TY1822_2020042710_c0_p_05'"
   ]
  },
  {
   "cell_type": "code",
   "execution_count": 8,
   "metadata": {},
   "outputs": [
    {
     "output_type": "stream",
     "name": "stdout",
     "text": [
      "读取成功\n"
     ]
    }
   ],
   "source": [
    "with open(full_path,'rb') as f:\n",
    "    data=pd.read_table(f,encoding='utf-8',header=None,infer_datetime_format=False)\n",
    "    print('读取成功')"
   ]
  },
  {
   "cell_type": "code",
   "execution_count": 9,
   "metadata": {},
   "outputs": [
    {
     "output_type": "execute_result",
     "data": {
      "text/plain": [
       "                                             0\n",
       "0                                         1822\n",
       "1                                            0\n",
       "2                                            9\n",
       "3                 091517 119.2 18.9 940.0 37.0\n",
       "4    091523 117.59999999999998 19.8 935.0 35.0\n",
       "5                 091605 116.1 20.5 930.0 33.0\n",
       "6   091611 114.6 21.199999999999996 930.0 33.0\n",
       "7                 091617 113.1 21.9 935.0 35.0\n",
       "8                 091623 111.4 22.5 954.0 44.0\n",
       "9                 091705 109.7 23.0 980.0 72.0\n",
       "10                  091711 108.1 23.4 998.0 80\n",
       "11                  091717 106.7 23.7 995.0 80"
      ],
      "text/html": "<div>\n<style scoped>\n    .dataframe tbody tr th:only-of-type {\n        vertical-align: middle;\n    }\n\n    .dataframe tbody tr th {\n        vertical-align: top;\n    }\n\n    .dataframe thead th {\n        text-align: right;\n    }\n</style>\n<table border=\"1\" class=\"dataframe\">\n  <thead>\n    <tr style=\"text-align: right;\">\n      <th></th>\n      <th>0</th>\n    </tr>\n  </thead>\n  <tbody>\n    <tr>\n      <th>0</th>\n      <td>1822</td>\n    </tr>\n    <tr>\n      <th>1</th>\n      <td>0</td>\n    </tr>\n    <tr>\n      <th>2</th>\n      <td>9</td>\n    </tr>\n    <tr>\n      <th>3</th>\n      <td>091517 119.2 18.9 940.0 37.0</td>\n    </tr>\n    <tr>\n      <th>4</th>\n      <td>091523 117.59999999999998 19.8 935.0 35.0</td>\n    </tr>\n    <tr>\n      <th>5</th>\n      <td>091605 116.1 20.5 930.0 33.0</td>\n    </tr>\n    <tr>\n      <th>6</th>\n      <td>091611 114.6 21.199999999999996 930.0 33.0</td>\n    </tr>\n    <tr>\n      <th>7</th>\n      <td>091617 113.1 21.9 935.0 35.0</td>\n    </tr>\n    <tr>\n      <th>8</th>\n      <td>091623 111.4 22.5 954.0 44.0</td>\n    </tr>\n    <tr>\n      <th>9</th>\n      <td>091705 109.7 23.0 980.0 72.0</td>\n    </tr>\n    <tr>\n      <th>10</th>\n      <td>091711 108.1 23.4 998.0 80</td>\n    </tr>\n    <tr>\n      <th>11</th>\n      <td>091717 106.7 23.7 995.0 80</td>\n    </tr>\n  </tbody>\n</table>\n</div>"
     },
     "metadata": {},
     "execution_count": 9
    }
   ],
   "source": [
    "data"
   ]
  },
  {
   "source": [
    "### 1-1 获取台风编号"
   ],
   "cell_type": "markdown",
   "metadata": {}
  },
  {
   "cell_type": "code",
   "execution_count": 10,
   "metadata": {},
   "outputs": [
    {
     "output_type": "execute_result",
     "data": {
      "text/plain": [
       "0    1822\n",
       "Name: 0, dtype: object"
      ]
     },
     "metadata": {},
     "execution_count": 10
    }
   ],
   "source": [
    "data.iloc[0]"
   ]
  },
  {
   "source": [
    "### 1-2 获取预报时次  \n",
    "预报时次应与下面的预报数据行数相同"
   ],
   "cell_type": "markdown",
   "metadata": {}
  },
  {
   "cell_type": "code",
   "execution_count": 13,
   "metadata": {},
   "outputs": [
    {
     "output_type": "execute_result",
     "data": {
      "text/plain": [
       "'9'"
      ]
     },
     "metadata": {},
     "execution_count": 13
    }
   ],
   "source": [
    "data.iloc[2].values[0]"
   ]
  },
  {
   "source": [
    "### 1-3 获取预报数据"
   ],
   "cell_type": "markdown",
   "metadata": {}
  },
  {
   "cell_type": "code",
   "execution_count": 14,
   "metadata": {},
   "outputs": [
    {
     "output_type": "execute_result",
     "data": {
      "text/plain": [
       "                                             0\n",
       "3                 091517 119.2 18.9 940.0 37.0\n",
       "4    091523 117.59999999999998 19.8 935.0 35.0\n",
       "5                 091605 116.1 20.5 930.0 33.0\n",
       "6   091611 114.6 21.199999999999996 930.0 33.0\n",
       "7                 091617 113.1 21.9 935.0 35.0\n",
       "8                 091623 111.4 22.5 954.0 44.0\n",
       "9                 091705 109.7 23.0 980.0 72.0\n",
       "10                  091711 108.1 23.4 998.0 80\n",
       "11                  091717 106.7 23.7 995.0 80"
      ],
      "text/html": "<div>\n<style scoped>\n    .dataframe tbody tr th:only-of-type {\n        vertical-align: middle;\n    }\n\n    .dataframe tbody tr th {\n        vertical-align: top;\n    }\n\n    .dataframe thead th {\n        text-align: right;\n    }\n</style>\n<table border=\"1\" class=\"dataframe\">\n  <thead>\n    <tr style=\"text-align: right;\">\n      <th></th>\n      <th>0</th>\n    </tr>\n  </thead>\n  <tbody>\n    <tr>\n      <th>3</th>\n      <td>091517 119.2 18.9 940.0 37.0</td>\n    </tr>\n    <tr>\n      <th>4</th>\n      <td>091523 117.59999999999998 19.8 935.0 35.0</td>\n    </tr>\n    <tr>\n      <th>5</th>\n      <td>091605 116.1 20.5 930.0 33.0</td>\n    </tr>\n    <tr>\n      <th>6</th>\n      <td>091611 114.6 21.199999999999996 930.0 33.0</td>\n    </tr>\n    <tr>\n      <th>7</th>\n      <td>091617 113.1 21.9 935.0 35.0</td>\n    </tr>\n    <tr>\n      <th>8</th>\n      <td>091623 111.4 22.5 954.0 44.0</td>\n    </tr>\n    <tr>\n      <th>9</th>\n      <td>091705 109.7 23.0 980.0 72.0</td>\n    </tr>\n    <tr>\n      <th>10</th>\n      <td>091711 108.1 23.4 998.0 80</td>\n    </tr>\n    <tr>\n      <th>11</th>\n      <td>091717 106.7 23.7 995.0 80</td>\n    </tr>\n  </tbody>\n</table>\n</div>"
     },
     "metadata": {},
     "execution_count": 14
    }
   ],
   "source": [
    "data.iloc[3:]"
   ]
  },
  {
   "cell_type": "code",
   "execution_count": 15,
   "metadata": {},
   "outputs": [
    {
     "output_type": "execute_result",
     "data": {
      "text/plain": [
       "9"
      ]
     },
     "metadata": {},
     "execution_count": 15
    }
   ],
   "source": [
    "len(data.iloc[3:])"
   ]
  },
  {
   "cell_type": "code",
   "execution_count": 19,
   "metadata": {},
   "outputs": [
    {
     "output_type": "execute_result",
     "data": {
      "text/plain": [
       "0    091517 119.2 18.9 940.0 37.0\n",
       "Name: 3, dtype: object"
      ]
     },
     "metadata": {},
     "execution_count": 19
    }
   ],
   "source": [
    "data.iloc[3]"
   ]
  },
  {
   "cell_type": "code",
   "execution_count": 22,
   "metadata": {},
   "outputs": [
    {
     "output_type": "execute_result",
     "data": {
      "text/plain": [
       "['091517', '119.2', '18.9', '940.0', '37.0']"
      ]
     },
     "metadata": {},
     "execution_count": 22
    }
   ],
   "source": [
    "data.iloc[3].values[0].split(' ')"
   ]
  },
  {
   "cell_type": "code",
   "execution_count": 24,
   "metadata": {},
   "outputs": [],
   "source": [
    "temp_arr=data.iloc[3].values[0].split(' ')"
   ]
  },
  {
   "source": [
    "对应关系  \n",
    "0:  MMDDHH  \n",
    "1: 经度  \n",
    "2: 维度  \n",
    "3: 气压  \n",
    "4: 大风半径"
   ],
   "cell_type": "markdown",
   "metadata": {}
  },
  {
   "source": [
    "#### 0- 预报时间"
   ],
   "cell_type": "markdown",
   "metadata": {}
  },
  {
   "cell_type": "code",
   "execution_count": 27,
   "metadata": {},
   "outputs": [
    {
     "output_type": "execute_result",
     "data": {
      "text/plain": [
       "<Arrow [2020-09-15T17:00:00+00:00]>"
      ]
     },
     "metadata": {},
     "execution_count": 27
    }
   ],
   "source": [
    "year_str='2020'\n",
    "forecast_dt=arrow.get(year_str+temp_arr[0],'YYYYMMDDHH')\n",
    "forecast_dt"
   ]
  },
  {
   "cell_type": "code",
   "execution_count": 28,
   "metadata": {},
   "outputs": [
    {
     "output_type": "execute_result",
     "data": {
      "text/plain": [
       "datetime.datetime(2020, 9, 15, 17, 0, tzinfo=tzutc())"
      ]
     },
     "metadata": {},
     "execution_count": 28
    }
   ],
   "source": [
    "forecast_dt.datetime"
   ]
  },
  {
   "source": [
    "#### 1- 经纬度"
   ],
   "cell_type": "markdown",
   "metadata": {}
  },
  {
   "cell_type": "code",
   "execution_count": 33,
   "metadata": {},
   "outputs": [
    {
     "output_type": "execute_result",
     "data": {
      "text/plain": [
       "[18.9, 119.2]"
      ]
     },
     "metadata": {},
     "execution_count": 33
    }
   ],
   "source": [
    "coords=[float(temp_arr[2]),float(temp_arr[1])]\n",
    "coords"
   ]
  },
  {
   "source": [
    "#### 2- 气压"
   ],
   "cell_type": "markdown",
   "metadata": {}
  },
  {
   "cell_type": "code",
   "execution_count": 35,
   "metadata": {},
   "outputs": [
    {
     "output_type": "execute_result",
     "data": {
      "text/plain": [
       "940.0"
      ]
     },
     "metadata": {},
     "execution_count": 35
    }
   ],
   "source": [
    "bp=float(temp_arr[3])\n",
    "bp"
   ]
  },
  {
   "source": [
    "#### 3- 半径"
   ],
   "cell_type": "markdown",
   "metadata": {}
  },
  {
   "cell_type": "code",
   "execution_count": 37,
   "metadata": {},
   "outputs": [
    {
     "output_type": "execute_result",
     "data": {
      "text/plain": [
       "37.0"
      ]
     },
     "metadata": {},
     "execution_count": 37
    }
   ],
   "source": [
    "radius=float(temp_arr[4])\n",
    "radius"
   ]
  },
  {
   "cell_type": "code",
   "execution_count": null,
   "metadata": {},
   "outputs": [],
   "source": []
  }
 ]
}