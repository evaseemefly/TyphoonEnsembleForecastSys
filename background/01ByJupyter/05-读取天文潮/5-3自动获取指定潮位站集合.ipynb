{
 "cells": [
  {
   "cell_type": "code",
   "execution_count": 1,
   "metadata": {},
   "outputs": [],
   "source": [
    "import os\n",
    "import pathlib"
   ]
  },
  {
   "cell_type": "code",
   "execution_count": 2,
   "metadata": {},
   "outputs": [],
   "source": [
    "read_dir_path:str=r'C:\\Users\\evase\\OneDrive\\同步文件夹\\02项目及本子\\10-台风集合预报路径系统\\数据\\2022_天文潮\\format_tide_2022'"
   ]
  },
  {
   "cell_type": "code",
   "execution_count": 3,
   "metadata": {},
   "outputs": [],
   "source": [
    "list_file_names=[]\n",
    "for temp_file_name in os.listdir(read_dir_path):\n",
    "    list_file_names.append(temp_file_name)"
   ]
  },
  {
   "cell_type": "code",
   "execution_count": 4,
   "metadata": {},
   "outputs": [
    {
     "data": {
      "text/plain": [
       "205"
      ]
     },
     "execution_count": 4,
     "metadata": {},
     "output_type": "execute_result"
    }
   ],
   "source": [
    "len(list_file_names)"
   ]
  },
  {
   "cell_type": "code",
   "execution_count": null,
   "metadata": {},
   "outputs": [],
   "source": [
    "DICT_STATION_2 = {\n",
    "    # 芦潮港  10 711\n",
    "    'LUCHAOG': 'LCG',\n",
    "    # 大戢山  11 730\n",
    "    'DAISHAN': 'DJS',\n",
    "    # 金山嘴  17 684\n",
    "    'JINSHAN': 'JSZ',\n",
    "    # 滩浒    23 697\n",
    "    3: 'TXU',\n",
    "    # 乍浦    26 667\n",
    "    'ZHAPU': 'ZPU',\n",
    "    # 澉浦    39 655\n",
    "    5: 'TXU',\n",
    "    # 嵊山    17 768\n",
    "    6: 'SHS',\n",
    "    # 岱山    46 731\n",
    "    7: 'DSH',\n",
    "    # 定海    61 724\n",
    "    8: 'DHI',\n",
    "    # 镇海    61 704\n",
    "    9: 'ZHI',\n",
    "    # 沈家门  64 737\n",
    "    10: 'SJM',\n",
    "    # 北仑    65 727\n",
    "    11: 'BLN',\n",
    "    # 乌沙山  90 699\n",
    "    12: 'WSH',\n",
    "    # 石浦   106 719\n",
    "    13: 'SPU',\n",
    "    # 健跳   117 699\n",
    "    14: 'JAT',\n",
    "    # 海门Z  139 687\n",
    "    15: 'HMZ',\n",
    "    # 大陈   153 714\n",
    "    16: 'DCH',\n",
    "    # 坎门   175 679\n",
    "    17: 'KMN',\n",
    "    # 温州S  181 645\n",
    "    18: 'WZS',\n",
    "    # 瑞安S  197 641\n",
    "    19: 'RAS',\n",
    "    # 鳌江S  206 638\n",
    "    20: 'AJS',\n",
    "    # 沙埕S  230 625\n",
    "    21: 'SCS',\n",
    "    # 秦屿   238 617\n",
    "    22: 'QYU',\n",
    "    # 三沙   246 614\n",
    "    23: 'SHA',\n",
    "    # 北礵   258 621\n",
    "    24: 'BSH',\n",
    "    # 城澳   263 584\n",
    "    25: 'CAO',\n",
    "    # 青屿   279 582\n",
    "    26: 'QYU',\n",
    "    # 北茭   278 596\n",
    "    27: 'BJA',\n",
    "    # 琯头   293 575\n",
    "    28: 'GTO',\n",
    "    # 梅花   299 581\n",
    "    29: 'MHA',\n",
    "    # 白岩潭 297 572\n",
    "    30: 'BYT',\n",
    "    # 平潭   332 590\n",
    "    31: 'PTN',\n",
    "    # 福清核 334 566\n",
    "    32: 'FQH',\n",
    "    # 石城   344 562\n",
    "    33: 'SHC',\n",
    "    # 峰尾   353 538\n",
    "    34: 'FHW',\n",
    "    # 崇武H  368 536\n",
    "    35: 'CHW',\n",
    "    # 晋江   382 520\n",
    "    36: 'JJH',\n",
    "    # 石井   381 507\n",
    "    37: 'SJH',\n",
    "    # 厦门   393 484\n",
    "    38: 'XMN',\n",
    "    # 旧镇   421 463\n",
    "    39: 'JZH',\n",
    "    # 古雷   432 459\n",
    "    40: 'GUL',\n",
    "    # 东山   436 452\n",
    "    41: 'DSH',\n",
    "    # 赤石湾 442 434\n",
    "    42: 'CSW',\n",
    "    # 云澳   457 427\n",
    "    43: 'YAO',\n",
    "    # 汕头S  460 405\n",
    "    44: 'STO',\n",
    "    # 海门G  470 397\n",
    "    45: 'HMN',\n",
    "    # 惠来   482 392\n",
    "    46: 'HLA',\n",
    "    # 陆丰   491 366\n",
    "    47: 'LFG',\n",
    "    # 遮浪   501 334\n",
    "    48: 'ZHL',\n",
    "    # 汕尾   495 321\n",
    "    49: 'SHW',\n",
    "    # 惠州   497 275\n",
    "    50: 'HZO',\n",
    "    # 盐田   506 257\n",
    "    51: 'YTA',\n",
    "    # 赤湾H  513 233\n",
    "    52: 'CHH',\n",
    "    # 南沙   496 215\n",
    "    53: 'GNS',\n",
    "    # 黄埔   491 216\n",
    "    54: 'HPU',\n",
    "    # 珠海   523 216\n",
    "    55: 'ZHI',\n",
    "    # 灯笼山 534 208\n",
    "    56: 'DLS',\n",
    "    # 三灶   539 205\n",
    "    57: 'SZA',\n",
    "}"
   ]
  }
 ],
 "metadata": {
  "kernelspec": {
   "display_name": "Python 3.7.10 ('oil374')",
   "language": "python",
   "name": "python3"
  },
  "language_info": {
   "codemirror_mode": {
    "name": "ipython",
    "version": 3
   },
   "file_extension": ".py",
   "mimetype": "text/x-python",
   "name": "python",
   "nbconvert_exporter": "python",
   "pygments_lexer": "ipython3",
   "version": "3.7.10"
  },
  "orig_nbformat": 4,
  "vscode": {
   "interpreter": {
    "hash": "d2556b79283bacf08749bea6b11ab2bb7cd6904b9daf3d7fbcdd966663ce4876"
   }
  }
 },
 "nbformat": 4,
 "nbformat_minor": 2
}
