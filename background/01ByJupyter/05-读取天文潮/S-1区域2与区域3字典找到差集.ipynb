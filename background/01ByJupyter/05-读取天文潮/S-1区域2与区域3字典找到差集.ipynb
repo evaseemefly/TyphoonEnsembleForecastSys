{
 "cells": [
  {
   "cell_type": "code",
   "execution_count": 14,
   "metadata": {},
   "outputs": [],
   "source": [
    "DICT_STATION_3 = {\n",
    "    0: 'PTN',\n",
    "    1: 'FQH',\n",
    "    2: 'SHC',\n",
    "    3: 'FHW',\n",
    "    4: 'CHW',\n",
    "    5: 'JJH',\n",
    "    6: 'SJH',\n",
    "    7: 'XMN',\n",
    "    8: 'JZH',\n",
    "    9: 'GUL',\n",
    "    10: 'DSH',\n",
    "    11: 'CSW',\n",
    "    12: 'YAO',\n",
    "    13: 'STO',\n",
    "    14: 'HMN',\n",
    "    15: 'HLA',\n",
    "    16: 'LFG',\n",
    "    17: 'ZHL',\n",
    "    18: 'SHW',\n",
    "    19: 'HZO',\n",
    "    20: 'YTA',\n",
    "    21: 'CWH',\n",
    "    22: 'NSA',\n",
    "    23: 'HPU',\n",
    "    24: 'ZHI',\n",
    "    25: 'DLS',\n",
    "    26: 'SZA',\n",
    "    27: 'BJI',\n",
    "    28: 'ZHP',\n",
    "    29: 'SHD',\n",
    "    30: 'ZJS',\n",
    "    31: 'ZJS',\n",
    "    32: 'NAZ',\n",
    "    33: 'NAD',\n",
    "    34: 'HAN',\n",
    "    35: 'XYG',\n",
    "    36: 'QLN',\n",
    "    37: 'BAO',\n",
    "    38: 'GBE',\n",
    "    39: 'SYA',\n",
    "    40: 'DFG',\n",
    "    41: 'STP',\n",
    "    42: 'WZH',\n",
    "    43: 'BHI',\n",
    "    44: 'QZH',\n",
    "    45: 'FCG',\n",
    "    46: 'WCH',\n",
    "    47: 'YGH',\n",
    "\n",
    "}"
   ]
  },
  {
   "cell_type": "markdown",
   "metadata": {},
   "source": [
    "从 DICT2 中找到 DICT3 中不存在的元素"
   ]
  },
  {
   "cell_type": "code",
   "execution_count": 15,
   "metadata": {},
   "outputs": [],
   "source": [
    "DICT_STATION_2 = {\n",
    "    # 芦潮港  10 711\n",
    "    0: 'LCG',\n",
    "    # 大戢山  11 730\n",
    "    1: 'DJS',\n",
    "    # 金山嘴  17 684\n",
    "    2: 'JSZ',\n",
    "    # 滩浒    23 697\n",
    "    3: 'TXU',\n",
    "    # 乍浦    26 667\n",
    "    4: 'ZPU',\n",
    "    # 澉浦    39 655\n",
    "    5: 'GPU',\n",
    "    # 嵊山    17 768\n",
    "    6: 'SHS',\n",
    "    # 岱山    46 731\n",
    "    7: 'DSH',\n",
    "    # 定海    61 724\n",
    "    8: 'DHI',\n",
    "    # 镇海    61 704\n",
    "    9: 'ZHI',\n",
    "    # 沈家门  64 737\n",
    "    10: 'SJM',\n",
    "    # 北仑    65 727\n",
    "    11: 'BLN',\n",
    "    # 乌沙山  90 699\n",
    "    12: 'WSH',\n",
    "    # 石浦   106 719\n",
    "    13: 'SPU',\n",
    "    # 健跳   117 699\n",
    "    14: 'JAT',\n",
    "    # 海门Z  139 687\n",
    "    15: 'HMZ',\n",
    "    # 大陈   153 714\n",
    "    16: 'DCH',\n",
    "    # 坎门   175 679\n",
    "    17: 'KMN',\n",
    "    # 温州S  181 645\n",
    "    18: 'WZS',\n",
    "    # 瑞安S  197 641\n",
    "    19: 'RAS',\n",
    "    # 鳌江S  206 638\n",
    "    20: 'AJS',\n",
    "    # 沙埕S  230 625\n",
    "    21: 'SCS',\n",
    "    # 秦屿   238 617\n",
    "    22: 'QYU',\n",
    "    # 三沙   246 614\n",
    "    23: 'SHA',\n",
    "    # 北礵   258 621\n",
    "    24: 'BSH',\n",
    "    # 城澳   263 584\n",
    "    25: 'CAO',\n",
    "    # 青屿   279 582\n",
    "    26: 'QYU',\n",
    "    # 北茭   278 596\n",
    "    27: 'BJA',\n",
    "    # 琯头   293 575\n",
    "    28: 'GTO',\n",
    "    # 梅花   299 581\n",
    "    29: 'MHA',\n",
    "    # 白岩潭 297 572\n",
    "    30: 'BYT',\n",
    "    # 平潭   332 590\n",
    "    31: 'PTN',\n",
    "    # 福清核 334 566\n",
    "    32: 'FQH',\n",
    "    # 石城   344 562\n",
    "    33: 'SHC',\n",
    "    # 峰尾   353 538\n",
    "    34: 'FHW',\n",
    "    # 崇武H  368 536\n",
    "    35: 'CHW',\n",
    "    # 晋江   382 520\n",
    "    36: 'JJH',\n",
    "    # 石井   381 507\n",
    "    37: 'SJH',\n",
    "    # 厦门   393 484\n",
    "    38: 'XMN',\n",
    "    # 旧镇   421 463\n",
    "    39: 'JZH',\n",
    "    # 古雷   432 459\n",
    "    40: 'GUL',\n",
    "    # 东山   436 452\n",
    "    41: 'DSH',\n",
    "    # 赤石湾 442 434\n",
    "    42: 'CSW',\n",
    "    # 云澳   457 427\n",
    "    43: 'YAO',\n",
    "    # 汕头S  460 405\n",
    "    44: 'STO',\n",
    "    # 海门G  470 397\n",
    "    45: 'HMN',\n",
    "    # 惠来   482 392\n",
    "    46: 'HLA',\n",
    "    # 陆丰   491 366\n",
    "    47: 'LFG',\n",
    "    # 遮浪   501 334\n",
    "    48: 'ZHL',\n",
    "    # 汕尾   495 321\n",
    "    49: 'SHW',\n",
    "    # 惠州   497 275\n",
    "    50: 'HZO',\n",
    "    # 盐田   506 257\n",
    "    51: 'YTA',\n",
    "    # 赤湾H  513 233\n",
    "    52: 'CHH',\n",
    "    # 南沙   496 215\n",
    "    53: 'GNS',\n",
    "    # 黄埔   491 216\n",
    "    54: 'HPU',\n",
    "    # 珠海   523 216\n",
    "    55: 'ZHI',\n",
    "    # 灯笼山 534 208\n",
    "    56: 'DLS',\n",
    "    # 三灶   539 205\n",
    "    57: 'SZA',\n",
    "}\n"
   ]
  },
  {
   "cell_type": "code",
   "execution_count": 16,
   "metadata": {},
   "outputs": [],
   "source": [
    "list_station_area2_code=[val for key,val in DICT_STATION_2.items()]"
   ]
  },
  {
   "cell_type": "code",
   "execution_count": 17,
   "metadata": {},
   "outputs": [
    {
     "data": {
      "text/plain": [
       "['LCG', 'DJS', 'JSZ', 'TXU', 'ZPU']"
      ]
     },
     "execution_count": 17,
     "metadata": {},
     "output_type": "execute_result"
    }
   ],
   "source": [
    "list_station_area2_code[:5]"
   ]
  },
  {
   "cell_type": "code",
   "execution_count": 18,
   "metadata": {},
   "outputs": [],
   "source": [
    "list_station_area3_code=[val for key,val in DICT_STATION_3.items()]"
   ]
  },
  {
   "cell_type": "code",
   "execution_count": 19,
   "metadata": {},
   "outputs": [
    {
     "data": {
      "text/plain": [
       "['PTN', 'FQH', 'SHC', 'FHW', 'CHW']"
      ]
     },
     "execution_count": 19,
     "metadata": {},
     "output_type": "execute_result"
    }
   ],
   "source": [
    "list_station_area3_code[:5]"
   ]
  },
  {
   "cell_type": "code",
   "execution_count": 31,
   "metadata": {},
   "outputs": [
    {
     "data": {
      "text/plain": [
       "30"
      ]
     },
     "execution_count": 31,
     "metadata": {},
     "output_type": "execute_result"
    }
   ],
   "source": [
    "len(list(set(list_station_area2_code).difference(set(list_station_area3_code))))"
   ]
  },
  {
   "cell_type": "code",
   "execution_count": 24,
   "metadata": {},
   "outputs": [],
   "source": [
    "list_area2_diff=list(set(list_station_area2_code).difference(set(list_station_area3_code)))"
   ]
  },
  {
   "cell_type": "code",
   "execution_count": 25,
   "metadata": {},
   "outputs": [],
   "source": [
    "# 从dict2中找到对应的元素并生成新的字典"
   ]
  },
  {
   "cell_type": "code",
   "execution_count": 29,
   "metadata": {},
   "outputs": [],
   "source": [
    "new_dict={}\n",
    "for key,val in DICT_STATION_2.items():\n",
    "    if val in list_area2_diff:\n",
    "        new_dict[key]=val"
   ]
  },
  {
   "cell_type": "code",
   "execution_count": 30,
   "metadata": {},
   "outputs": [
    {
     "data": {
      "text/plain": [
       "31"
      ]
     },
     "execution_count": 30,
     "metadata": {},
     "output_type": "execute_result"
    }
   ],
   "source": [
    "len(new_dict)"
   ]
  },
  {
   "cell_type": "code",
   "execution_count": 32,
   "metadata": {},
   "outputs": [
    {
     "data": {
      "text/plain": [
       "{0: 'LCG',\n",
       " 1: 'DJS',\n",
       " 2: 'JSZ',\n",
       " 3: 'TXU',\n",
       " 4: 'ZPU',\n",
       " 5: 'GPU',\n",
       " 6: 'SHS',\n",
       " 8: 'DHI',\n",
       " 10: 'SJM',\n",
       " 11: 'BLN',\n",
       " 12: 'WSH',\n",
       " 13: 'SPU',\n",
       " 14: 'JAT',\n",
       " 15: 'HMZ',\n",
       " 16: 'DCH',\n",
       " 17: 'KMN',\n",
       " 18: 'WZS',\n",
       " 19: 'RAS',\n",
       " 20: 'AJS',\n",
       " 21: 'SCS',\n",
       " 22: 'QYU',\n",
       " 23: 'SHA',\n",
       " 24: 'BSH',\n",
       " 25: 'CAO',\n",
       " 26: 'QYU',\n",
       " 27: 'BJA',\n",
       " 28: 'GTO',\n",
       " 29: 'MHA',\n",
       " 30: 'BYT',\n",
       " 52: 'CHH',\n",
       " 53: 'GNS'}"
      ]
     },
     "execution_count": 32,
     "metadata": {},
     "output_type": "execute_result"
    }
   ],
   "source": [
    "new_dict"
   ]
  },
  {
   "cell_type": "code",
   "execution_count": 33,
   "metadata": {},
   "outputs": [
    {
     "data": {
      "text/plain": [
       "['QYU',\n",
       " 'JAT',\n",
       " 'SCS',\n",
       " 'AJS',\n",
       " 'WZS',\n",
       " 'BYT',\n",
       " 'DJS',\n",
       " 'TXU',\n",
       " 'HMZ',\n",
       " 'BJA',\n",
       " 'MHA',\n",
       " 'CAO',\n",
       " 'GTO',\n",
       " 'RAS',\n",
       " 'GNS',\n",
       " 'SPU',\n",
       " 'BLN',\n",
       " 'KMN',\n",
       " 'SHS',\n",
       " 'SJM',\n",
       " 'DCH',\n",
       " 'GPU',\n",
       " 'DHI',\n",
       " 'LCG',\n",
       " 'JSZ',\n",
       " 'CHH',\n",
       " 'ZPU',\n",
       " 'BSH',\n",
       " 'WSH',\n",
       " 'SHA']"
      ]
     },
     "execution_count": 33,
     "metadata": {},
     "output_type": "execute_result"
    }
   ],
   "source": [
    "list_area2_diff"
   ]
  },
  {
   "cell_type": "code",
   "execution_count": null,
   "metadata": {},
   "outputs": [],
   "source": []
  }
 ],
 "metadata": {
  "kernelspec": {
   "display_name": "Python 3.7.10 ('newoilgdal')",
   "language": "python",
   "name": "python3"
  },
  "language_info": {
   "codemirror_mode": {
    "name": "ipython",
    "version": 3
   },
   "file_extension": ".py",
   "mimetype": "text/x-python",
   "name": "python",
   "nbconvert_exporter": "python",
   "pygments_lexer": "ipython3",
   "version": "3.7.10"
  },
  "orig_nbformat": 4,
  "vscode": {
   "interpreter": {
    "hash": "fb0978a0408f5b1de10c27e92a02a5ae9cac6a6267709fff84754d3ae902809e"
   }
  }
 },
 "nbformat": 4,
 "nbformat_minor": 2
}
