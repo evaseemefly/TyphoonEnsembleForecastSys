{
 "cells": [
  {
   "cell_type": "code",
   "execution_count": 35,
   "metadata": {},
   "outputs": [],
   "source": [
    "from osgeo import gdal"
   ]
  },
  {
   "cell_type": "code",
   "execution_count": 61,
   "metadata": {},
   "outputs": [],
   "source": [
    "out_put_full_path:str=r'./data/max_02.png'\n",
    "in_put_full_path:str=r'./data/max.tif'"
   ]
  },
  {
   "cell_type": "code",
   "execution_count": 38,
   "metadata": {},
   "outputs": [
    {
     "data": {
      "text/plain": [
       "<osgeo.gdal.Dataset; proxy of <Swig Object of type 'GDALDatasetShadow *' at 0x0000018E9977E690> >"
      ]
     },
     "execution_count": 38,
     "metadata": {},
     "output_type": "execute_result"
    }
   ],
   "source": [
    "# 此种方式可以转存为 png ，但只有单波段，且范围为 0-190左右，且部分内容有缺失\n",
    "translate_options = gdal.TranslateOptions(format='JPEG',\n",
    "                                          outputType=gdal.GDT_Byte,\n",
    "                                          scaleParams=[''],\n",
    "                                          # scaleParams=[min_val, max_val],\n",
    "                                          )\n",
    "# translate_options = gdal.TranslateOptions(rgbExpand='RGB', format='GTiff'\n",
    "#                                           )\n",
    "\n",
    "gdal.Translate(destName=out_put_full_path, srcDS=in_put_full_path, options=translate_options)"
   ]
  },
  {
   "cell_type": "markdown",
   "metadata": {},
   "source": [
    "尝试使用cv2将 tif -> png  \n",
    "直接转换不行"
   ]
  },
  {
   "cell_type": "code",
   "execution_count": 26,
   "metadata": {},
   "outputs": [],
   "source": [
    "import os\n",
    "from PIL import Image"
   ]
  },
  {
   "cell_type": "code",
   "execution_count": 29,
   "metadata": {},
   "outputs": [],
   "source": [
    "full_path=r'./data/max.tif'\n",
    "img=Image.open(full_path)"
   ]
  },
  {
   "cell_type": "code",
   "execution_count": 30,
   "metadata": {},
   "outputs": [
    {
     "data": {
      "text/plain": [
       "PIL.TiffImagePlugin.TiffImageFile"
      ]
     },
     "execution_count": 30,
     "metadata": {},
     "output_type": "execute_result"
    }
   ],
   "source": [
    "type(img)"
   ]
  },
  {
   "cell_type": "code",
   "execution_count": 28,
   "metadata": {},
   "outputs": [],
   "source": [
    "img.show()"
   ]
  },
  {
   "cell_type": "code",
   "execution_count": 24,
   "metadata": {},
   "outputs": [],
   "source": [
    "out_img=img.convert(\"RGB\")"
   ]
  },
  {
   "cell_type": "code",
   "execution_count": 39,
   "metadata": {},
   "outputs": [],
   "source": [
    "#out_img"
   ]
  },
  {
   "cell_type": "code",
   "execution_count": 17,
   "metadata": {},
   "outputs": [],
   "source": [
    "out_full_path:str=r'./data/max_rgb.png'\n",
    "out_img.save(out_full_path,quality=95)"
   ]
  },
  {
   "cell_type": "markdown",
   "metadata": {},
   "source": [
    "#### 尝试使用 gdal 进行转换"
   ]
  },
  {
   "cell_type": "code",
   "execution_count": null,
   "metadata": {},
   "outputs": [],
   "source": [
    "from osgeo import gdal\n",
    "\n",
    "translate_options = gdal.TranslateOptions(format='JPEG',\n",
    "                                          outputType=gdal.GDT_Byte,\n",
    "                                          scaleParams=[''],\n",
    "                                          # scaleParams=[min_val, max_val],\n",
    "                                          )\n",
    "\n",
    "gdal.Translate(destName='test.jpg', srcDS='test.tif', options=translate_options)"
   ]
  },
  {
   "cell_type": "markdown",
   "metadata": {},
   "source": [
    "#### \n",
    "参考文献: https://gis.stackexchange.com/questions/245562/how-to-transform-a-geotiff-dem-to-png-tiles-encoding-elevation-as-rgb-colors  \n",
    "此种方式输出的rgb图片有问题，放弃"
   ]
  },
  {
   "cell_type": "code",
   "execution_count": 42,
   "metadata": {},
   "outputs": [],
   "source": [
    "import rasterio\n",
    "import numpy as np"
   ]
  },
  {
   "cell_type": "code",
   "execution_count": 45,
   "metadata": {},
   "outputs": [
    {
     "name": "stderr",
     "output_type": "stream",
     "text": [
      "c:\\Users\\evase\\Anaconda3\\envs\\new_oil_gdal\\lib\\site-packages\\ipykernel_launcher.py:8: RuntimeWarning: invalid value encountered in floor_divide\n",
      "  \n",
      "c:\\Users\\evase\\Anaconda3\\envs\\new_oil_gdal\\lib\\site-packages\\ipykernel_launcher.py:9: RuntimeWarning: invalid value encountered in floor_divide\n",
      "  if __name__ == '__main__':\n"
     ]
    }
   ],
   "source": [
    "with rasterio.open('./data/max.tif') as src:\n",
    "    dem = src.read(1)\n",
    "\n",
    "r = np.zeros(dem.shape)\n",
    "g = np.zeros(dem.shape)\n",
    "b = np.zeros(dem.shape)\n",
    "\n",
    "r += np.floor_divide((100000 + dem * 10), 65536)\n",
    "g += np.floor_divide((100000 + dem * 10), 256) - r * 256\n",
    "b += np.floor(100000 + dem * 10) - r * 65536 - g * 256\n",
    "\n"
   ]
  },
  {
   "cell_type": "code",
   "execution_count": 48,
   "metadata": {},
   "outputs": [],
   "source": [
    "meta = src.meta\n",
    "# meta(dtype=rasterio.uint8,nodata=0,count=3)\n"
   ]
  },
  {
   "cell_type": "code",
   "execution_count": 52,
   "metadata": {},
   "outputs": [
    {
     "data": {
      "text/plain": [
       "'float32'"
      ]
     },
     "execution_count": 52,
     "metadata": {},
     "output_type": "execute_result"
    }
   ],
   "source": [
    "meta['dtype']"
   ]
  },
  {
   "cell_type": "code",
   "execution_count": 55,
   "metadata": {},
   "outputs": [],
   "source": [
    "meta['dtype']=rasterio.uint8\n",
    "meta['count']=3\n",
    "meta['nodata']=0"
   ]
  },
  {
   "cell_type": "code",
   "execution_count": 56,
   "metadata": {},
   "outputs": [],
   "source": [
    "with rasterio.open('./data/max_outfile.tif', 'w', **meta) as dst:\n",
    "    dst.write_band(1, r.astype(rasterio.uint8))\n",
    "    dst.write_band(2, g.astype(rasterio.uint8))\n",
    "    dst.write_band(3, b.astype(rasterio.uint8))"
   ]
  },
  {
   "cell_type": "markdown",
   "metadata": {},
   "source": [
    "#### 尝试将 geotiff -> geojson  \n",
    "参考文章: https://gis.stackexchange.com/questions/368784/convert-geotiff-to-geojson  \n",
    "https://rasterio.readthedocs.io/en/latest/  \n",
    "但注意此种方式存储完并不包含`val`数组"
   ]
  },
  {
   "cell_type": "code",
   "execution_count": 60,
   "metadata": {},
   "outputs": [],
   "source": [
    "import rasterio\n",
    "import rasterio.features\n",
    "import rasterio.warp\n",
    "import io,json\n",
    "\n",
    "with rasterio.open('./data/max.tif') as dataset:\n",
    "\n",
    "    # Read the dataset's valid data mask as a ndarray.\n",
    "    mask = dataset.dataset_mask()\n",
    "\n",
    "    # Extract feature shapes and values from the array.\n",
    "    for geom, val in rasterio.features.shapes(\n",
    "            mask, transform=dataset.transform):\n",
    "\n",
    "        # Transform shapes from the dataset's own coordinate\n",
    "        # reference system to CRS84 (EPSG:4326).\n",
    "        geom = rasterio.warp.transform_geom(\n",
    "            dataset.crs, 'EPSG:4326', geom, precision=6)\n",
    "\n",
    "        # Print GeoJSON shapes to stdout.\n",
    "        # print(geom)\n",
    "        with io.open('./data/max.json','w') as f:\n",
    "            json.dump(geom, f, ensure_ascii=False)"
   ]
  },
  {
   "cell_type": "code",
   "execution_count": null,
   "metadata": {},
   "outputs": [],
   "source": []
  }
 ],
 "metadata": {
  "interpreter": {
   "hash": "687417e122ff39fb67762fb04990157511eee8a18aa7341bc9bad59d85c98240"
  },
  "kernelspec": {
   "display_name": "Python 3.7.4 ('new_oil_gdal')",
   "language": "python",
   "name": "python3"
  },
  "language_info": {
   "codemirror_mode": {
    "name": "ipython",
    "version": 3
   },
   "file_extension": ".py",
   "mimetype": "text/x-python",
   "name": "python",
   "nbconvert_exporter": "python",
   "pygments_lexer": "ipython3",
   "version": "3.7.4"
  },
  "orig_nbformat": 4
 },
 "nbformat": 4,
 "nbformat_minor": 2
}
