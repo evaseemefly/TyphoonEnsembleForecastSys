{
 "metadata": {
  "language_info": {
   "codemirror_mode": {
    "name": "ipython",
    "version": 3
   },
   "file_extension": ".py",
   "mimetype": "text/x-python",
   "name": "python",
   "nbconvert_exporter": "python",
   "pygments_lexer": "ipython3",
   "version": "3.7.4"
  },
  "orig_nbformat": 2,
  "kernelspec": {
   "name": "python3",
   "display_name": "Python 3.7.4 64-bit ('new_oil_gdal': conda)"
  },
  "interpreter": {
   "hash": "9855e607446d6f8d8d32c1b2c59596f2ae0851b17c8feda8ce0476f271252dcc"
  }
 },
 "nbformat": 4,
 "nbformat_minor": 2,
 "cells": [
  {
   "cell_type": "code",
   "execution_count": 7,
   "source": [
    "import os\r\n",
    "import pandas as pd\r\n",
    "import numpy as np\r\n",
    "import re\r\n",
    "from datetime import datetime\r\n",
    "import arrow\r\n",
    "import numpy as np\r\n",
    "import netCDF4 as nc\r\n",
    "import pandas as pd\r\n",
    "import numpy.ma as ma\r\n",
    "import matplotlib as mpl\r\n",
    "import matplotlib.pyplot as pltz\r\n",
    "import xarray as xar\r\n",
    "import rioxarray"
   ],
   "outputs": [],
   "metadata": {}
  },
  {
   "cell_type": "code",
   "execution_count": 8,
   "source": [
    "# + 21-08-06 P5750 测试的概率分布场\r\n",
    "file_path=r'D:\\03nginx_data\\nmefc_download\\TY_GROUP_RESULT\\test\\proSurge_TY2022_2021010416_gt1_0m.nc'"
   ],
   "outputs": [],
   "metadata": {}
  },
  {
   "cell_type": "code",
   "execution_count": 9,
   "source": [
    "ds_xr=xar.open_dataset(file_path)\r\n",
    "ds_xr=ds_xr.rename_vars({'latitude':'y','longitude':'x'})\r\n",
    "ds_xr=ds_xr.swap_dims({'lat':'y','lon':'x'})\r\n",
    "ds_xr.rio.set_spatial_dims(\"x\",\"y\",inplace=True)\r\n",
    "ds_xr=ds_xr.rio.write_crs(\"epsg:4326\", inplace=True)\r\n",
    "ds_xr=ds_xr.reindex(y=ds_xr.y[::-1])"
   ],
   "outputs": [],
   "metadata": {}
  },
  {
   "cell_type": "code",
   "execution_count": 10,
   "source": [
    "ds_xr.to_netcdf(r'D:\\03nginx_data\\nmefc_download\\TY_GROUP_RESULT\\test\\proSurge_TY2022_2021010416_gt1_0m_desc_y.nc')"
   ],
   "outputs": [],
   "metadata": {}
  },
  {
   "cell_type": "code",
   "execution_count": 11,
   "source": [
    "# + 21-08-06 P5750\r\n",
    "output_file=r'D:\\03nginx_data\\nmefc_download\\TY_GROUP_RESULT\\test\\proSurge_TY2022_2021010416_gt1_0m_desc_y.tif'"
   ],
   "outputs": [],
   "metadata": {}
  },
  {
   "cell_type": "code",
   "execution_count": 12,
   "source": [
    "ds_xr.rio.to_raster(output_file)"
   ],
   "outputs": [],
   "metadata": {}
  },
  {
   "cell_type": "code",
   "execution_count": null,
   "source": [],
   "outputs": [],
   "metadata": {}
  }
 ]
}