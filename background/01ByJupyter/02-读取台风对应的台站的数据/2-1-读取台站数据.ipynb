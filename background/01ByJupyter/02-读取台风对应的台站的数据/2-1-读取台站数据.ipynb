{
 "metadata": {
  "language_info": {
   "codemirror_mode": {
    "name": "ipython",
    "version": 3
   },
   "file_extension": ".py",
   "mimetype": "text/x-python",
   "name": "python",
   "nbconvert_exporter": "python",
   "pygments_lexer": "ipython3",
   "version": "3.7.10"
  },
  "orig_nbformat": 2,
  "kernelspec": {
   "name": "python3710jvsc74a57bd0125029afdf0196e65f470427989172178093671f069f25c6a535c14f81d7620a",
   "display_name": "Python 3.7.10 64-bit ('newoilgdal': conda)"
  }
 },
 "nbformat": 4,
 "nbformat_minor": 2,
 "cells": [
  {
   "cell_type": "code",
   "execution_count": 1,
   "metadata": {},
   "outputs": [],
   "source": [
    "import os\n",
    "import pandas as pd\n",
    "import numpy as np\n",
    "import re\n",
    "from datetime import datetime\n",
    "import arrow"
   ]
  },
  {
   "cell_type": "code",
   "execution_count": 2,
   "metadata": {},
   "outputs": [],
   "source": [
    "full_path=r'/Users/liusihan/data/typhoon_data/TY2022_2020042710/station/Surge_TY2022_2021010416_c0_p_05.dat'"
   ]
  },
  {
   "cell_type": "code",
   "execution_count": 3,
   "metadata": {},
   "outputs": [
    {
     "output_type": "stream",
     "name": "stdout",
     "text": [
      "读取成功\n"
     ]
    }
   ],
   "source": [
    "with open(full_path,'rb') as f:\n",
    "    data=pd.read_table(f,encoding='utf-8',header=None,infer_datetime_format=False)\n",
    "    print('读取成功')"
   ]
  },
  {
   "cell_type": "code",
   "execution_count": 4,
   "metadata": {},
   "outputs": [
    {
     "output_type": "execute_result",
     "data": {
      "text/plain": [
       "                                                   0\n",
       "0      0.0    0.0    0.0    0.0    0.0    0.0    ...\n",
       "1     -5.5   -2.4   -1.5   -0.7   -2.4   -2.4   -...\n",
       "2    -11.4   -7.2   -3.6   -4.5   -5.2   -5.1   -...\n",
       "3    -16.7  -12.3   -7.7   -9.2   -9.7   -9.4  -1...\n",
       "4    -20.9  -17.3  -12.5  -13.6  -14.7  -14.2  -1..."
      ],
      "text/html": "<div>\n<style scoped>\n    .dataframe tbody tr th:only-of-type {\n        vertical-align: middle;\n    }\n\n    .dataframe tbody tr th {\n        vertical-align: top;\n    }\n\n    .dataframe thead th {\n        text-align: right;\n    }\n</style>\n<table border=\"1\" class=\"dataframe\">\n  <thead>\n    <tr style=\"text-align: right;\">\n      <th></th>\n      <th>0</th>\n    </tr>\n  </thead>\n  <tbody>\n    <tr>\n      <th>0</th>\n      <td>0.0    0.0    0.0    0.0    0.0    0.0    ...</td>\n    </tr>\n    <tr>\n      <th>1</th>\n      <td>-5.5   -2.4   -1.5   -0.7   -2.4   -2.4   -...</td>\n    </tr>\n    <tr>\n      <th>2</th>\n      <td>-11.4   -7.2   -3.6   -4.5   -5.2   -5.1   -...</td>\n    </tr>\n    <tr>\n      <th>3</th>\n      <td>-16.7  -12.3   -7.7   -9.2   -9.7   -9.4  -1...</td>\n    </tr>\n    <tr>\n      <th>4</th>\n      <td>-20.9  -17.3  -12.5  -13.6  -14.7  -14.2  -1...</td>\n    </tr>\n  </tbody>\n</table>\n</div>"
     },
     "metadata": {},
     "execution_count": 4
    }
   ],
   "source": [
    "data.head()"
   ]
  },
  {
   "source": [
    "* 注意此处使用 `\\\\s+` 的方式进行分隔  \n",
    "### 1- 使用 `\\\\s+` 作为切分方式进行切分，获得 `dataframe`"
   ],
   "cell_type": "markdown",
   "metadata": {}
  },
  {
   "cell_type": "code",
   "execution_count": 5,
   "metadata": {},
   "outputs": [],
   "source": [
    "df=pd.read_csv(full_path,sep='\\\\s+',header=None)"
   ]
  },
  {
   "cell_type": "code",
   "execution_count": 7,
   "metadata": {},
   "outputs": [
    {
     "output_type": "execute_result",
     "data": {
      "text/plain": [
       "pandas.core.frame.DataFrame"
      ]
     },
     "metadata": {},
     "execution_count": 7
    }
   ],
   "source": [
    "type(df)"
   ]
  },
  {
   "source": [
    "#### 1-2 获取行数与列数"
   ],
   "cell_type": "markdown",
   "metadata": {}
  },
  {
   "cell_type": "code",
   "execution_count": 8,
   "metadata": {},
   "outputs": [
    {
     "output_type": "execute_result",
     "data": {
      "text/plain": [
       "(49, 10)"
      ]
     },
     "metadata": {},
     "execution_count": 8
    }
   ],
   "source": [
    "df.shape"
   ]
  },
  {
   "cell_type": "code",
   "execution_count": 9,
   "metadata": {},
   "outputs": [],
   "source": [
    "num_columns=df.shape[0]"
   ]
  },
  {
   "cell_type": "code",
   "execution_count": 10,
   "metadata": {},
   "outputs": [],
   "source": [
    "num_rows=df.shape[1]"
   ]
  },
  {
   "cell_type": "code",
   "execution_count": 6,
   "metadata": {},
   "outputs": [
    {
     "output_type": "execute_result",
     "data": {
      "text/plain": [
       "      0     1     2     3     4     5     6     7     8     9\n",
       "0   0.0   0.0   0.0   0.0   0.0   0.0   0.0   0.0   0.0   0.0\n",
       "1  -5.5  -2.4  -1.5  -0.7  -2.4  -2.4  -1.7  -1.6  -2.3  -3.6\n",
       "2 -11.4  -7.2  -3.6  -4.5  -5.2  -5.1  -6.0  -5.2  -6.0  -7.7\n",
       "3 -16.7 -12.3  -7.7  -9.2  -9.7  -9.4 -10.8  -9.9 -10.7 -12.7\n",
       "4 -20.9 -17.3 -12.5 -13.6 -14.7 -14.2 -16.6 -15.3 -16.4 -18.8"
      ],
      "text/html": "<div>\n<style scoped>\n    .dataframe tbody tr th:only-of-type {\n        vertical-align: middle;\n    }\n\n    .dataframe tbody tr th {\n        vertical-align: top;\n    }\n\n    .dataframe thead th {\n        text-align: right;\n    }\n</style>\n<table border=\"1\" class=\"dataframe\">\n  <thead>\n    <tr style=\"text-align: right;\">\n      <th></th>\n      <th>0</th>\n      <th>1</th>\n      <th>2</th>\n      <th>3</th>\n      <th>4</th>\n      <th>5</th>\n      <th>6</th>\n      <th>7</th>\n      <th>8</th>\n      <th>9</th>\n    </tr>\n  </thead>\n  <tbody>\n    <tr>\n      <th>0</th>\n      <td>0.0</td>\n      <td>0.0</td>\n      <td>0.0</td>\n      <td>0.0</td>\n      <td>0.0</td>\n      <td>0.0</td>\n      <td>0.0</td>\n      <td>0.0</td>\n      <td>0.0</td>\n      <td>0.0</td>\n    </tr>\n    <tr>\n      <th>1</th>\n      <td>-5.5</td>\n      <td>-2.4</td>\n      <td>-1.5</td>\n      <td>-0.7</td>\n      <td>-2.4</td>\n      <td>-2.4</td>\n      <td>-1.7</td>\n      <td>-1.6</td>\n      <td>-2.3</td>\n      <td>-3.6</td>\n    </tr>\n    <tr>\n      <th>2</th>\n      <td>-11.4</td>\n      <td>-7.2</td>\n      <td>-3.6</td>\n      <td>-4.5</td>\n      <td>-5.2</td>\n      <td>-5.1</td>\n      <td>-6.0</td>\n      <td>-5.2</td>\n      <td>-6.0</td>\n      <td>-7.7</td>\n    </tr>\n    <tr>\n      <th>3</th>\n      <td>-16.7</td>\n      <td>-12.3</td>\n      <td>-7.7</td>\n      <td>-9.2</td>\n      <td>-9.7</td>\n      <td>-9.4</td>\n      <td>-10.8</td>\n      <td>-9.9</td>\n      <td>-10.7</td>\n      <td>-12.7</td>\n    </tr>\n    <tr>\n      <th>4</th>\n      <td>-20.9</td>\n      <td>-17.3</td>\n      <td>-12.5</td>\n      <td>-13.6</td>\n      <td>-14.7</td>\n      <td>-14.2</td>\n      <td>-16.6</td>\n      <td>-15.3</td>\n      <td>-16.4</td>\n      <td>-18.8</td>\n    </tr>\n  </tbody>\n</table>\n</div>"
     },
     "metadata": {},
     "execution_count": 6
    }
   ],
   "source": [
    "df.head()"
   ]
  },
  {
   "cell_type": "code",
   "execution_count": 18,
   "metadata": {},
   "outputs": [
    {
     "output_type": "execute_result",
     "data": {
      "text/plain": [
       "0    0.0\n",
       "1    0.0\n",
       "2    0.0\n",
       "3    0.0\n",
       "4    0.0\n",
       "5    0.0\n",
       "6    0.0\n",
       "7    0.0\n",
       "8    0.0\n",
       "9    0.0\n",
       "Name: 0, dtype: float64"
      ]
     },
     "metadata": {},
     "execution_count": 18
    }
   ],
   "source": [
    "df.loc[0]"
   ]
  },
  {
   "cell_type": "code",
   "execution_count": 19,
   "metadata": {},
   "outputs": [
    {
     "output_type": "execute_result",
     "data": {
      "text/plain": [
       "0    0.0\n",
       "1    0.0\n",
       "2    0.0\n",
       "3    0.0\n",
       "4    0.0\n",
       "5    0.0\n",
       "6    0.0\n",
       "7    0.0\n",
       "8    0.0\n",
       "9    0.0\n",
       "Name: 0, dtype: float64"
      ]
     },
     "metadata": {},
     "execution_count": 19
    }
   ],
   "source": [
    "df.iloc[0]"
   ]
  },
  {
   "cell_type": "code",
   "execution_count": 21,
   "metadata": {},
   "outputs": [
    {
     "output_type": "execute_result",
     "data": {
      "text/plain": [
       "0      0.0\n",
       "1     -5.3\n",
       "2    -10.9\n",
       "3    -16.0\n",
       "4    -20.1\n",
       "5    -24.6\n",
       "6    -19.0\n",
       "7      5.7\n",
       "8     13.9\n",
       "9     14.7\n",
       "10    13.7\n",
       "11    11.2\n",
       "12    10.3\n",
       "13     1.2\n",
       "14    -8.5\n",
       "15    -7.9\n",
       "16     1.7\n",
       "17    15.8\n",
       "18    31.1\n",
       "19    43.9\n",
       "20    55.8\n",
       "21    66.1\n",
       "22    68.0\n",
       "23    63.2\n",
       "24    56.0\n",
       "25    46.1\n",
       "26    37.0\n",
       "27    33.3\n",
       "28    31.9\n",
       "29    28.7\n",
       "30    25.6\n",
       "31    21.5\n",
       "32    14.5\n",
       "33     8.4\n",
       "34     5.8\n",
       "35     6.0\n",
       "36     5.7\n",
       "37     5.2\n",
       "38     3.9\n",
       "39    -0.7\n",
       "40    -5.9\n",
       "41    -8.0\n",
       "42    -7.4\n",
       "43    -6.9\n",
       "44    -6.9\n",
       "45    -5.6\n",
       "46    -4.1\n",
       "47    -3.4\n",
       "48    -2.5\n",
       "Name: 0, dtype: float64"
      ]
     },
     "metadata": {},
     "execution_count": 21
    }
   ],
   "source": [
    "df[0]"
   ]
  },
  {
   "cell_type": "code",
   "execution_count": 11,
   "metadata": {},
   "outputs": [
    {
     "output_type": "execute_result",
     "data": {
      "text/plain": [
       "pandas.core.series.Series"
      ]
     },
     "metadata": {},
     "execution_count": 11
    }
   ],
   "source": [
    "type(df[0])"
   ]
  },
  {
   "source": [
    "### 2- 遍历数据"
   ],
   "cell_type": "markdown",
   "metadata": {}
  },
  {
   "cell_type": "code",
   "execution_count": 15,
   "metadata": {},
   "outputs": [
    {
     "output_type": "stream",
     "name": "stdout",
     "text": [
      "第0列,第0列,val:0.0\n第0列,第1列,val:-5.5\n第0列,第2列,val:-11.4\n第0列,第3列,val:-16.7\n第0列,第4列,val:-20.9\n第0列,第5列,val:-25.7\n第0列,第6列,val:-20.6\n第0列,第7列,val:5.0\n第0列,第8列,val:13.7\n第0列,第9列,val:14.6\n第0列,第10列,val:13.4\n第0列,第11列,val:10.9\n第0列,第12列,val:10.0\n第0列,第13列,val:0.3\n第0列,第14列,val:-10.2\n第0列,第15列,val:-9.7\n第0列,第16列,val:0.4\n第0列,第17列,val:15.1\n第0列,第18列,val:31.1\n第0列,第19列,val:44.6\n第0列,第20列,val:57.2\n第0列,第21列,val:68.1\n第0列,第22列,val:70.2\n第0列,第23列,val:65.2\n第0列,第24列,val:57.9\n第0列,第25列,val:47.9\n第0列,第26列,val:38.5\n第0列,第27列,val:34.9\n第0列,第28列,val:33.3\n第0列,第29列,val:29.8\n第0列,第30列,val:26.8\n第0列,第31列,val:23.0\n第0列,第32列,val:15.7\n第0列,第33列,val:9.3\n第0列,第34列,val:6.6\n第0列,第35列,val:6.9\n第0列,第36列,val:6.4\n第0列,第37列,val:6.1\n第0列,第38列,val:5.0\n第0列,第39列,val:-0.0\n第0列,第40列,val:-5.7\n第0列,第41列,val:-7.8\n第0列,第42列,val:-7.2\n第0列,第43列,val:-6.8\n第0列,第44列,val:-6.9\n第0列,第45列,val:-5.6\n第0列,第46列,val:-4.1\n第0列,第47列,val:-3.5\n第0列,第48列,val:-2.6\n---第1列---\n第1列,第0列,val:0.0\n第1列,第1列,val:-2.4\n第1列,第2列,val:-7.2\n第1列,第3列,val:-12.3\n第1列,第4列,val:-17.3\n第1列,第5列,val:-22.2\n第1列,第6列,val:-25.5\n第1列,第7列,val:-5.9\n第1列,第8列,val:18.3\n第1列,第9列,val:25.8\n第1列,第10列,val:22.5\n第1列,第11列,val:15.0\n第1列,第12列,val:18.4\n第1列,第13列,val:19.3\n第1列,第14列,val:11.5\n第1列,第15列,val:8.5\n第1列,第16列,val:18.8\n第1列,第17列,val:41.2\n第1列,第18列,val:69.6\n第1列,第19列,val:97.0\n第1列,第20列,val:122.6\n第1列,第21列,val:145.4\n第1列,第22列,val:157.1\n第1列,第23列,val:151.7\n第1列,第24列,val:131.1\n第1列,第25列,val:106.9\n第1列,第26列,val:87.7\n第1列,第27列,val:76.0\n第1列,第28列,val:64.8\n第1列,第29列,val:52.3\n第1列,第30列,val:46.0\n第1列,第31列,val:40.8\n第1列,第32列,val:32.4\n第1列,第33列,val:22.1\n第1列,第34列,val:15.2\n第1列,第35列,val:12.1\n第1列,第36列,val:11.7\n第1列,第37列,val:11.3\n第1列,第38列,val:7.5\n第1列,第39列,val:-0.1\n第1列,第40列,val:-6.7\n第1列,第41列,val:-8.5\n第1列,第42列,val:-7.4\n第1列,第43列,val:-7.3\n第1列,第44列,val:-8.3\n第1列,第45列,val:-7.1\n第1列,第46列,val:-4.4\n第1列,第47列,val:-2.5\n第1列,第48列,val:-2.2\n---第2列---\n第2列,第0列,val:0.0\n第2列,第1列,val:-1.5\n第2列,第2列,val:-3.6\n第2列,第3列,val:-7.7\n第2列,第4列,val:-12.5\n第2列,第5列,val:-17.1\n第2列,第6列,val:-19.0\n第2列,第7列,val:2.6\n第2列,第8列,val:19.8\n第2列,第9列,val:29.9\n第2列,第10列,val:31.3\n第2列,第11列,val:27.3\n第2列,第12列,val:28.7\n第2列,第13列,val:30.4\n第2列,第14列,val:24.3\n第2列,第15列,val:23.0\n第2列,第16列,val:32.1\n第2列,第17列,val:52.3\n第2列,第18列,val:80.3\n第2列,第19列,val:110.6\n第2列,第20列,val:141.6\n第2列,第21列,val:169.8\n第2列,第22列,val:182.7\n第2列,第23列,val:172.1\n第2列,第24列,val:146.5\n第2列,第25列,val:118.3\n第2列,第26列,val:95.8\n第2列,第27列,val:79.4\n第2列,第28列,val:63.4\n第2列,第29列,val:51.3\n第2列,第30列,val:46.1\n第2列,第31列,val:39.4\n第2列,第32列,val:30.2\n第2列,第33列,val:22.4\n第2列,第34列,val:15.7\n第2列,第35列,val:11.1\n第2列,第36列,val:10.5\n第2列,第37列,val:9.7\n第2列,第38列,val:5.5\n第2列,第39列,val:-1.6\n第2列,第40列,val:-6.1\n第2列,第41列,val:-7.0\n第2列,第42列,val:-7.0\n第2列,第43列,val:-8.0\n第2列,第44列,val:-7.8\n第2列,第45列,val:-6.1\n第2列,第46列,val:-3.8\n第2列,第47列,val:-2.3\n第2列,第48列,val:-1.4\n---第3列---\n第3列,第0列,val:0.0\n第3列,第1列,val:-0.7\n第3列,第2列,val:-4.5\n第3列,第3列,val:-9.2\n第3列,第4列,val:-13.6\n第3列,第5列,val:-18.0\n第3列,第6列,val:-17.0\n第3列,第7列,val:7.4\n第3列,第8列,val:24.7\n第3列,第9列,val:34.2\n第3列,第10列,val:30.6\n第3列,第11列,val:26.7\n第3列,第12列,val:30.4\n第3列,第13列,val:30.1\n第3列,第14列,val:25.5\n第3列,第15列,val:25.3\n第3列,第16列,val:36.6\n第3列,第17列,val:58.6\n第3列,第18列,val:83.7\n第3列,第19列,val:106.3\n第3列,第20列,val:126.0\n第3列,第21列,val:140.4\n第3列,第22列,val:143.5\n第3列,第23列,val:131.2\n第3列,第24列,val:108.5\n第3列,第25列,val:85.3\n第3列,第26列,val:69.0\n第3列,第27列,val:58.6\n第3列,第28列,val:49.0\n第3列,第29列,val:40.2\n第3列,第30列,val:36.0\n第3列,第31列,val:31.0\n第3列,第32列,val:23.9\n第3列,第33列,val:15.7\n第3列,第34列,val:10.5\n第3列,第35列,val:8.6\n第3列,第36列,val:9.1\n第3列,第37列,val:8.6\n第3列,第38列,val:4.9\n第3列,第39列,val:-1.9\n第3列,第40列,val:-7.1\n第3列,第41列,val:-8.4\n第3列,第42列,val:-7.6\n第3列,第43列,val:-7.8\n第3列,第44列,val:-8.0\n第3列,第45列,val:-6.7\n第3列,第46列,val:-4.3\n第3列,第47列,val:-2.8\n第3列,第48列,val:-2.1\n---第4列---\n第4列,第0列,val:0.0\n第4列,第1列,val:-2.4\n第4列,第2列,val:-5.2\n第4列,第3列,val:-9.7\n第4列,第4列,val:-14.7\n第4列,第5列,val:-19.5\n第4列,第6列,val:-20.0\n第4列,第7列,val:-0.5\n第4列,第8列,val:15.9\n第4列,第9列,val:24.8\n第4列,第10列,val:24.9\n第4列,第11列,val:20.5\n第4列,第12列,val:19.9\n第4列,第13列,val:17.6\n第4列,第14列,val:9.8\n第4列,第15列,val:5.8\n第4列,第16列,val:10.7\n第4列,第17列,val:25.4\n第4列,第18列,val:46.3\n第4列,第19列,val:69.4\n第4列,第20列,val:94.5\n第4列,第21列,val:118.6\n第4列,第22列,val:131.9\n第4列,第23列,val:126.5\n第4列,第24列,val:108.9\n第4列,第25列,val:89.7\n第4列,第26列,val:74.8\n第4列,第27列,val:63.4\n第4列,第28列,val:51.5\n第4列,第29列,val:43.4\n第4列,第30列,val:39.5\n第4列,第31列,val:34.0\n第4列,第32列,val:26.2\n第4列,第33列,val:19.4\n第4列,第34列,val:13.6\n第4列,第35列,val:10.0\n第4列,第36列,val:9.5\n第4列,第37列,val:8.7\n第4列,第38列,val:4.5\n第4列,第39列,val:-1.9\n第4列,第40列,val:-6.0\n第4列,第41列,val:-7.0\n第4列,第42列,val:-7.2\n第4列,第43列,val:-8.0\n第4列,第44列,val:-7.8\n第4列,第45列,val:-6.0\n第4列,第46列,val:-3.9\n第4列,第47列,val:-2.4\n第4列,第48列,val:-1.4\n---第5列---\n第5列,第0列,val:0.0\n第5列,第1列,val:-2.4\n第5列,第2列,val:-5.1\n第5列,第3列,val:-9.4\n第5列,第4列,val:-14.2\n第5列,第5列,val:-18.9\n第5列,第6列,val:-20.9\n第5列,第7列,val:0.1\n第5列,第8列,val:17.2\n第5列,第9列,val:26.6\n第5列,第10列,val:27.4\n第5列,第11列,val:22.8\n第5列,第12列,val:23.5\n第5列,第13列,val:24.0\n第5列,第14列,val:17.0\n第5列,第15列,val:14.8\n第5列,第16列,val:22.7\n第5列,第17列,val:41.7\n第5列,第18列,val:68.5\n第5列,第19列,val:97.8\n第5列,第20列,val:128.5\n第5列,第21列,val:157.4\n第5列,第22列,val:172.1\n第5列,第23列,val:164.1\n第5列,第24列,val:141.5\n第5列,第25列,val:116.0\n第5列,第26列,val:95.2\n第5列,第27列,val:79.8\n第5列,第28列,val:64.3\n第5列,第29列,val:52.7\n第5列,第30列,val:47.4\n第5列,第31列,val:40.6\n第5列,第32列,val:31.4\n第5列,第33列,val:23.5\n第5列,第34列,val:16.7\n第5列,第35列,val:12.0\n第5列,第36列,val:11.2\n第5列,第37列,val:10.2\n第5列,第38列,val:5.8\n第5列,第39列,val:-1.3\n第5列,第40列,val:-5.8\n第5列,第41列,val:-6.8\n第5列,第42列,val:-7.0\n第5列,第43列,val:-7.9\n第5列,第44列,val:-7.8\n第5列,第45列,val:-6.0\n第5列,第46列,val:-3.8\n第5列,第47列,val:-2.3\n第5列,第48列,val:-1.4\n---第6列---\n第6列,第0列,val:0.0\n第6列,第1列,val:-1.7\n第6列,第2列,val:-6.0\n第6列,第3列,val:-10.8\n第6列,第4列,val:-16.6\n第6列,第5列,val:-22.9\n第6列,第6列,val:-29.9\n第6列,第7列,val:-37.4\n第6列,第8列,val:-40.8\n第6列,第9列,val:-35.6\n第6列,第10列,val:-25.8\n第6列,第11列,val:-21.0\n第6列,第12列,val:-24.1\n第6列,第13列,val:-31.5\n第6列,第14列,val:-39.5\n第6列,第15列,val:-51.7\n第6列,第16列,val:-68.7\n第6列,第17列,val:-86.5\n第6列,第18列,val:-102.6\n第6列,第19列,val:-116.6\n第6列,第20列,val:-127.4\n第6列,第21列,val:-131.5\n第6列,第22列,val:-123.7\n第6列,第23列,val:-98.9\n第6列,第24列,val:-34.3\n第6列,第25列,val:46.0\n第6列,第26列,val:115.5\n第6列,第27列,val:168.8\n第6列,第28列,val:176.5\n第6列,第29列,val:152.3\n第6列,第30列,val:131.8\n第6列,第31列,val:112.9\n第6列,第32列,val:92.8\n第6列,第33列,val:75.9\n第6列,第34列,val:62.1\n第6列,第35列,val:49.9\n第6列,第36列,val:39.3\n第6列,第37列,val:30.7\n第6列,第38列,val:22.2\n第6列,第39列,val:12.5\n第6列,第40列,val:2.9\n第6列,第41列,val:-4.6\n第6列,第42列,val:-9.0\n第6列,第43列,val:-10.6\n第6列,第44列,val:-11.1\n第6列,第45列,val:-11.6\n第6列,第46列,val:-10.9\n第6列,第47列,val:-7.6\n第6列,第48列,val:-2.9\n---第7列---\n第7列,第0列,val:0.0\n第7列,第1列,val:-1.6\n第7列,第2列,val:-5.2\n第7列,第3列,val:-9.9\n第7列,第4列,val:-15.3\n第7列,第5列,val:-21.4\n第7列,第6列,val:-28.2\n第7列,第7列,val:-35.3\n第7列,第8列,val:-37.2\n第7列,第9列,val:-32.0\n第7列,第10列,val:-24.2\n第7列,第11列,val:-20.3\n第7列,第12列,val:-21.5\n第7列,第13列,val:-27.0\n第7列,第14列,val:-34.3\n第7列,第15列,val:-46.1\n第7列,第16列,val:-61.7\n第7列,第17列,val:-77.7\n第7列,第18列,val:-92.3\n第7列,第19列,val:-105.4\n第7列,第20列,val:-116.2\n第7列,第21列,val:-121.3\n第7列,第22列,val:-114.7\n第7列,第23列,val:-84.6\n第7列,第24列,val:-13.1\n第7列,第25列,val:68.5\n第7列,第26列,val:129.6\n第7列,第27列,val:165.7\n第7列,第28列,val:171.7\n第7列,第29列,val:155.4\n第7列,第30列,val:134.3\n第7列,第31列,val:113.8\n第7列,第32列,val:94.4\n第7列,第33列,val:77.5\n第7列,第34列,val:63.4\n第7列,第35列,val:51.0\n第7列,第36列,val:40.5\n第7列,第37列,val:31.7\n第7列,第38列,val:22.6\n第7列,第39列,val:13.0\n第7列,第40列,val:3.9\n第7列,第41列,val:-3.5\n第7列,第42列,val:-8.0\n第7列,第43列,val:-10.1\n第7列,第44列,val:-11.2\n第7列,第45列,val:-11.5\n第7列,第46列,val:-10.5\n第7列,第47列,val:-7.4\n第7列,第48列,val:-3.4\n---第8列---\n第8列,第0列,val:0.0\n第8列,第1列,val:-2.3\n第8列,第2列,val:-6.0\n第8列,第3列,val:-10.7\n第8列,第4列,val:-16.4\n第8列,第5列,val:-22.7\n第8列,第6列,val:-29.9\n第8列,第7列,val:-37.9\n第8列,第8列,val:-44.0\n第8列,第9列,val:-42.2\n第8列,第10列,val:-35.2\n第8列,第11列,val:-31.0\n第8列,第12列,val:-31.2\n第8列,第13列,val:-37.4\n第8列,第14列,val:-46.4\n第8列,第15列,val:-59.2\n第8列,第16列,val:-77.2\n第8列,第17列,val:-97.8\n第8列,第18列,val:-118.7\n第8列,第19列,val:-139.2\n第8列,第20列,val:-158.3\n第8列,第21列,val:-171.6\n第8列,第22列,val:-168.1\n第8列,第23列,val:-130.0\n第8列,第24列,val:-44.4\n第8列,第25列,val:57.6\n第8列,第26列,val:138.0\n第8列,第27列,val:183.0\n第8列,第28列,val:192.2\n第8列,第29列,val:177.2\n第8列,第30列,val:154.5\n第8列,第31列,val:130.9\n第8列,第32列,val:109.4\n第8列,第33列,val:90.5\n第8列,第34列,val:74.3\n第8列,第35列,val:60.0\n第8列,第36列,val:47.7\n第8列,第37列,val:37.4\n第8列,第38列,val:27.8\n第8列,第39列,val:17.7\n第8列,第40列,val:7.9\n第8列,第41列,val:-0.7\n第8列,第42列,val:-6.7\n第8列,第43列,val:-9.6\n第8列,第44列,val:-10.8\n第8列,第45列,val:-11.4\n第8列,第46列,val:-10.8\n第8列,第47列,val:-8.4\n第8列,第48列,val:-4.5\n---第9列---\n第9列,第0列,val:0.0\n第9列,第1列,val:-3.6\n第9列,第2列,val:-7.7\n第9列,第3列,val:-12.7\n第9列,第4列,val:-18.8\n第9列,第5列,val:-25.6\n第9列,第6列,val:-33.2\n第9列,第7列,val:-41.9\n第9列,第8列,val:-49.5\n第9列,第9列,val:-49.0\n第9列,第10列,val:-41.9\n第9列,第11列,val:-37.7\n第9列,第12列,val:-38.5\n第9列,第13列,val:-45.8\n第9列,第14列,val:-56.2\n第9列,第15列,val:-69.7\n第9列,第16列,val:-88.7\n第9列,第17列,val:-110.4\n第9列,第18列,val:-131.7\n第9列,第19列,val:-150.5\n第9列,第20列,val:-163.9\n第9列,第21列,val:-165.9\n第9列,第22列,val:-143.8\n第9列,第23列,val:-88.5\n第9列,第24列,val:-0.0\n第9列,第25列,val:97.2\n第9列,第26列,val:173.0\n第9列,第27列,val:212.8\n第9列,第28列,val:216.2\n第9列,第29列,val:196.2\n第9列,第30列,val:170.0\n第9列,第31列,val:143.8\n第9列,第32列,val:120.5\n第9列,第33列,val:99.8\n第9列,第34列,val:81.8\n第9列,第35列,val:66.0\n第9列,第36列,val:52.3\n第9列,第37列,val:40.8\n第9列,第38列,val:30.4\n第9列,第39列,val:19.7\n第9列,第40列,val:9.2\n第9列,第41列,val:0.0\n第9列,第42列,val:-6.5\n第9列,第43列,val:-9.6\n第9列,第44列,val:-10.5\n第9列,第45列,val:-11.0\n第9列,第46列,val:-10.7\n第9列,第47列,val:-8.3\n第9列,第48列,val:-4.3\n---第10列---\n"
     ]
    },
    {
     "output_type": "error",
     "ename": "KeyError",
     "evalue": "10",
     "traceback": [
      "\u001b[0;31m---------------------------------------------------------------------------\u001b[0m",
      "\u001b[0;31mKeyError\u001b[0m                                  Traceback (most recent call last)",
      "\u001b[0;32m~/opt/anaconda3/envs/newoilgdal/lib/python3.7/site-packages/pandas/core/indexes/base.py\u001b[0m in \u001b[0;36mget_loc\u001b[0;34m(self, key, method, tolerance)\u001b[0m\n\u001b[1;32m   3079\u001b[0m             \u001b[0;32mtry\u001b[0m\u001b[0;34m:\u001b[0m\u001b[0;34m\u001b[0m\u001b[0;34m\u001b[0m\u001b[0m\n\u001b[0;32m-> 3080\u001b[0;31m                 \u001b[0;32mreturn\u001b[0m \u001b[0mself\u001b[0m\u001b[0;34m.\u001b[0m\u001b[0m_engine\u001b[0m\u001b[0;34m.\u001b[0m\u001b[0mget_loc\u001b[0m\u001b[0;34m(\u001b[0m\u001b[0mcasted_key\u001b[0m\u001b[0;34m)\u001b[0m\u001b[0;34m\u001b[0m\u001b[0;34m\u001b[0m\u001b[0m\n\u001b[0m\u001b[1;32m   3081\u001b[0m             \u001b[0;32mexcept\u001b[0m \u001b[0mKeyError\u001b[0m \u001b[0;32mas\u001b[0m \u001b[0merr\u001b[0m\u001b[0;34m:\u001b[0m\u001b[0;34m\u001b[0m\u001b[0;34m\u001b[0m\u001b[0m\n",
      "\u001b[0;32mpandas/_libs/index.pyx\u001b[0m in \u001b[0;36mpandas._libs.index.IndexEngine.get_loc\u001b[0;34m()\u001b[0m\n",
      "\u001b[0;32mpandas/_libs/index.pyx\u001b[0m in \u001b[0;36mpandas._libs.index.IndexEngine.get_loc\u001b[0;34m()\u001b[0m\n",
      "\u001b[0;32mpandas/_libs/hashtable_class_helper.pxi\u001b[0m in \u001b[0;36mpandas._libs.hashtable.Int64HashTable.get_item\u001b[0;34m()\u001b[0m\n",
      "\u001b[0;32mpandas/_libs/hashtable_class_helper.pxi\u001b[0m in \u001b[0;36mpandas._libs.hashtable.Int64HashTable.get_item\u001b[0;34m()\u001b[0m\n",
      "\u001b[0;31mKeyError\u001b[0m: 10",
      "\nThe above exception was the direct cause of the following exception:\n",
      "\u001b[0;31mKeyError\u001b[0m                                  Traceback (most recent call last)",
      "\u001b[0;32m<ipython-input-15-810a60275e1d>\u001b[0m in \u001b[0;36m<module>\u001b[0;34m\u001b[0m\n\u001b[1;32m      1\u001b[0m \u001b[0;32mfor\u001b[0m \u001b[0mindex_column\u001b[0m \u001b[0;32min\u001b[0m \u001b[0mrange\u001b[0m\u001b[0;34m(\u001b[0m\u001b[0mnum_columns\u001b[0m\u001b[0;34m)\u001b[0m\u001b[0;34m:\u001b[0m\u001b[0;34m\u001b[0m\u001b[0;34m\u001b[0m\u001b[0m\n\u001b[0;32m----> 2\u001b[0;31m     \u001b[0mseries_column\u001b[0m\u001b[0;34m=\u001b[0m\u001b[0mdf\u001b[0m\u001b[0;34m[\u001b[0m\u001b[0mindex_column\u001b[0m\u001b[0;34m]\u001b[0m\u001b[0;34m\u001b[0m\u001b[0;34m\u001b[0m\u001b[0m\n\u001b[0m\u001b[1;32m      3\u001b[0m     \u001b[0mindex_row\u001b[0m\u001b[0;34m=\u001b[0m\u001b[0;36m0\u001b[0m\u001b[0;34m\u001b[0m\u001b[0;34m\u001b[0m\u001b[0m\n\u001b[1;32m      4\u001b[0m     \u001b[0;32mfor\u001b[0m \u001b[0mval_row\u001b[0m \u001b[0;32min\u001b[0m \u001b[0mseries_column\u001b[0m\u001b[0;34m:\u001b[0m\u001b[0;34m\u001b[0m\u001b[0;34m\u001b[0m\u001b[0m\n\u001b[1;32m      5\u001b[0m         \u001b[0mprint\u001b[0m\u001b[0;34m(\u001b[0m\u001b[0;34mf'第{index_column}列,第{index_row}列,val:{val_row}'\u001b[0m\u001b[0;34m)\u001b[0m\u001b[0;34m\u001b[0m\u001b[0;34m\u001b[0m\u001b[0m\n",
      "\u001b[0;32m~/opt/anaconda3/envs/newoilgdal/lib/python3.7/site-packages/pandas/core/frame.py\u001b[0m in \u001b[0;36m__getitem__\u001b[0;34m(self, key)\u001b[0m\n\u001b[1;32m   3022\u001b[0m             \u001b[0;32mif\u001b[0m \u001b[0mself\u001b[0m\u001b[0;34m.\u001b[0m\u001b[0mcolumns\u001b[0m\u001b[0;34m.\u001b[0m\u001b[0mnlevels\u001b[0m \u001b[0;34m>\u001b[0m \u001b[0;36m1\u001b[0m\u001b[0;34m:\u001b[0m\u001b[0;34m\u001b[0m\u001b[0;34m\u001b[0m\u001b[0m\n\u001b[1;32m   3023\u001b[0m                 \u001b[0;32mreturn\u001b[0m \u001b[0mself\u001b[0m\u001b[0;34m.\u001b[0m\u001b[0m_getitem_multilevel\u001b[0m\u001b[0;34m(\u001b[0m\u001b[0mkey\u001b[0m\u001b[0;34m)\u001b[0m\u001b[0;34m\u001b[0m\u001b[0;34m\u001b[0m\u001b[0m\n\u001b[0;32m-> 3024\u001b[0;31m             \u001b[0mindexer\u001b[0m \u001b[0;34m=\u001b[0m \u001b[0mself\u001b[0m\u001b[0;34m.\u001b[0m\u001b[0mcolumns\u001b[0m\u001b[0;34m.\u001b[0m\u001b[0mget_loc\u001b[0m\u001b[0;34m(\u001b[0m\u001b[0mkey\u001b[0m\u001b[0;34m)\u001b[0m\u001b[0;34m\u001b[0m\u001b[0;34m\u001b[0m\u001b[0m\n\u001b[0m\u001b[1;32m   3025\u001b[0m             \u001b[0;32mif\u001b[0m \u001b[0mis_integer\u001b[0m\u001b[0;34m(\u001b[0m\u001b[0mindexer\u001b[0m\u001b[0;34m)\u001b[0m\u001b[0;34m:\u001b[0m\u001b[0;34m\u001b[0m\u001b[0;34m\u001b[0m\u001b[0m\n\u001b[1;32m   3026\u001b[0m                 \u001b[0mindexer\u001b[0m \u001b[0;34m=\u001b[0m \u001b[0;34m[\u001b[0m\u001b[0mindexer\u001b[0m\u001b[0;34m]\u001b[0m\u001b[0;34m\u001b[0m\u001b[0;34m\u001b[0m\u001b[0m\n",
      "\u001b[0;32m~/opt/anaconda3/envs/newoilgdal/lib/python3.7/site-packages/pandas/core/indexes/base.py\u001b[0m in \u001b[0;36mget_loc\u001b[0;34m(self, key, method, tolerance)\u001b[0m\n\u001b[1;32m   3080\u001b[0m                 \u001b[0;32mreturn\u001b[0m \u001b[0mself\u001b[0m\u001b[0;34m.\u001b[0m\u001b[0m_engine\u001b[0m\u001b[0;34m.\u001b[0m\u001b[0mget_loc\u001b[0m\u001b[0;34m(\u001b[0m\u001b[0mcasted_key\u001b[0m\u001b[0;34m)\u001b[0m\u001b[0;34m\u001b[0m\u001b[0;34m\u001b[0m\u001b[0m\n\u001b[1;32m   3081\u001b[0m             \u001b[0;32mexcept\u001b[0m \u001b[0mKeyError\u001b[0m \u001b[0;32mas\u001b[0m \u001b[0merr\u001b[0m\u001b[0;34m:\u001b[0m\u001b[0;34m\u001b[0m\u001b[0;34m\u001b[0m\u001b[0m\n\u001b[0;32m-> 3082\u001b[0;31m                 \u001b[0;32mraise\u001b[0m \u001b[0mKeyError\u001b[0m\u001b[0;34m(\u001b[0m\u001b[0mkey\u001b[0m\u001b[0;34m)\u001b[0m \u001b[0;32mfrom\u001b[0m \u001b[0merr\u001b[0m\u001b[0;34m\u001b[0m\u001b[0;34m\u001b[0m\u001b[0m\n\u001b[0m\u001b[1;32m   3083\u001b[0m \u001b[0;34m\u001b[0m\u001b[0m\n\u001b[1;32m   3084\u001b[0m         \u001b[0;32mif\u001b[0m \u001b[0mtolerance\u001b[0m \u001b[0;32mis\u001b[0m \u001b[0;32mnot\u001b[0m \u001b[0;32mNone\u001b[0m\u001b[0;34m:\u001b[0m\u001b[0;34m\u001b[0m\u001b[0;34m\u001b[0m\u001b[0m\n",
      "\u001b[0;31mKeyError\u001b[0m: 10"
     ]
    }
   ],
   "source": [
    "for index_column in range(num_columns):\n",
    "    series_column=df[index_column]\n",
    "    index_row=0\n",
    "    for val_row in series_column:\n",
    "        print(f'第{index_column}列,第{index_row}列,val:{val_row}')\n",
    "        index_row=index_row+1\n",
    "    print(f'---第{index_column+1}列---')"
   ]
  },
  {
   "cell_type": "code",
   "execution_count": null,
   "metadata": {},
   "outputs": [],
   "source": []
  }
 ]
}